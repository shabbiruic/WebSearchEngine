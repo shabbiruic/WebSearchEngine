{
 "cells": [
  {
   "cell_type": "code",
   "execution_count": 3,
   "metadata": {},
   "outputs": [
    {
     "data": {
      "text/plain": [
       "<__main__.PageRank at 0x4f614c8>"
      ]
     },
     "execution_count": 3,
     "metadata": {},
     "output_type": "execute_result"
    }
   ],
   "source": [
    "import json\n",
    "import pickle\n",
    "from collections import defaultdict \n",
    "from Configuration import path_to_web_graph,path_to_page_rank,alpha,number_of_iteration_in_rank \n",
    "\n",
    "# Class does the work of calculating the page rank from the given web graph.\n",
    "class PageRank:\n",
    "    \n",
    "    def __init__(self,alpha,max_iteration,adjacency_dict_filename,filename_to_save_rank):\n",
    "        self.alpha = alpha\n",
    "        self.max_iteration = max_iteration\n",
    "        self.node_rank={}\n",
    "        self.node_rank_old = {}\n",
    "        self.adjacency_dict = load_dict_from_file(adjacency_dict_filename)\n",
    "        self.in_links_dict = self.create_in_links(self.adjacency_dict)\n",
    "        calulated_page_rank = self.calculate_node_rank()\n",
    "        save_dict_to_file(filename_to_save_rank,calulated_page_rank)\n",
    "        \n",
    "#     Calculates the page rank of each url untill they no more changes or maximum iteration has been reached    \n",
    "    def calculate_node_rank(self):\n",
    "        \n",
    "        node_count = len(self.adjacency_dict.keys())\n",
    "        \n",
    "        for node in self.adjacency_dict.keys():\n",
    "            self.node_rank[node] = float(1.00)/node_count\n",
    "            self.node_rank_old[node] = float(1.00)/node_count\n",
    "            \n",
    "        early_termination = False\n",
    "        \n",
    "        while not early_termination and self.max_iteration > 0:\n",
    "        \n",
    "            for node in self.in_links_dict.keys():\n",
    "                sum= float(0)\n",
    "                for parent_node in self.in_links_dict[node]: \n",
    "                    sum += float(self.node_rank_old[parent_node])/len(self.adjacency_dict[parent_node])\n",
    "                    \n",
    "                self.node_rank[node] =  (1-self.alpha)*sum + self.alpha/node_count\n",
    "        \n",
    "            early_termination = True\n",
    "            for node in self.node_rank.keys():\n",
    "                \n",
    "                if early_termination and self.node_rank[node] != self.node_rank_old[node]:\n",
    "                    early_termination = False\n",
    "                \n",
    "                self.node_rank_old[node]=self.node_rank[node]\n",
    "        \n",
    "        return self.node_rank_old\n",
    "            \n",
    "#   it creates the dictionary which has page links map to list of links which are point to it     \n",
    "    def create_in_links(self,adjacency_dict):\n",
    "            in_links_dict = defaultdict(list)\n",
    "            for node in adjacency_dict.keys():\n",
    "                for child_node in adjacency_dict[node]:\n",
    "#                     if child_node in adjacency_dict.keys():\n",
    "                        in_links_dict[child_node].append(node)\n",
    "            return in_links_dict\n",
    "    \n",
    "def save_dict_to_file(filename,dict_to_save):\n",
    "    with open(filename+'.json', 'w+') as fd:\n",
    "        json.dump(dict_to_save, fd)\n",
    "        \n",
    "def load_dict_from_file(filename):\n",
    "    with open(filename +'.json') as f:\n",
    "        loaded_dict = json.load(f)\n",
    "    return loaded_dict\n",
    "            \n",
    "def load_set_from_file(filename):\n",
    "    with open (filename, 'rb') as fp:\n",
    "        loaded_set = pickle.load(fp)\n",
    "    return loaded_set\n",
    "            \n",
    "                \n",
    "PageRank(alpha,number_of_iteration_in_rank,path_to_web_graph,path_to_page_rank)\n"
   ]
  },
  {
   "cell_type": "code",
   "execution_count": null,
   "metadata": {},
   "outputs": [],
   "source": []
  }
 ],
 "metadata": {
  "kernelspec": {
   "display_name": "Python 3",
   "language": "python",
   "name": "python3"
  },
  "language_info": {
   "codemirror_mode": {
    "name": "ipython",
    "version": 3
   },
   "file_extension": ".py",
   "mimetype": "text/x-python",
   "name": "python",
   "nbconvert_exporter": "python",
   "pygments_lexer": "ipython3",
   "version": "3.7.6"
  }
 },
 "nbformat": 4,
 "nbformat_minor": 4
}
